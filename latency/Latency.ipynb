{
 "cells": [
  {
   "cell_type": "markdown",
   "metadata": {
    "lines_to_next_cell": 0
   },
   "source": [
    "In order to run the code in parallel, we first need to add some julia processes."
   ]
  },
  {
   "cell_type": "code",
   "execution_count": null,
   "metadata": {
    "lines_to_next_cell": 0
   },
   "outputs": [],
   "source": [
    "using Distributed\n",
    "addprocs(7)\n",
    "nprocs()"
   ]
  },
  {
   "cell_type": "markdown",
   "metadata": {},
   "source": [
    "# Shared memory parallelization of block banded matrices\n",
    "\n",
    "The objective is to parallelize block banded matrices using a shared memory\n",
    "model. Block banded matrices can be parameterized to accept different kinds of\n",
    "storage back-ends. Among other things, it means block banded matrices can be\n",
    "parallelized simply by telling them to use a `SharedArray` as storage:"
   ]
  },
  {
   "cell_type": "code",
   "execution_count": null,
   "metadata": {},
   "outputs": [],
   "source": [
    "@everywhere begin\n",
    "    using Pkg\n",
    "    Pkg.activate(pwd())\n",
    "    using BlockBandedMatrices: BandedBlockBandedMatrix, _BandedBlockBandedMatrix\n",
    "    using BlockBandedMatrices: BandedBlockBandedSizes\n",
    "    using BlockArrays: PseudoBlockArray, Block, nblocks\n",
    "    using SharedArrays: SharedArray\n",
    "\n",
    "    const SharedPseudoBlock = \n",
    "        PseudoBlockArray{T, 2, SharedArray{T, 2}, B} where {T, B}\n",
    "    const SharedBandedBlockBandedMatrix =\n",
    "        BandedBlockBandedMatrix{T, SharedPseudoBlock{T, B}} where {T, B}\n",
    "end"
   ]
  },
  {
   "cell_type": "markdown",
   "metadata": {},
   "source": [
    "Well, it's almost that simple. The point is that block banded matrices are\n",
    "composed of blocks. So the storage type must be aware both of how to handle\n",
    "blocks and how to share them across processes. Hence, the `SharedPseudoBlock`\n",
    "type above. It creates a pseudo block array - where blocks are stored in a\n",
    "single container - backed by a shared array."
   ]
  },
  {
   "cell_type": "markdown",
   "metadata": {},
   "source": [
    "We can now create an overloaded function to initialize the array:"
   ]
  },
  {
   "cell_type": "code",
   "execution_count": 3,
   "metadata": {},
   "outputs": [],
   "source": [
    "@everywhere function SharedBandedBlockBandedMatrix{T}(\n",
    "        ::UndefInitializer, bs::BandedBlockBandedSizes; kwargs...) where T\n",
    "    shared = SharedArray{T}(size(bs); kwargs...)\n",
    "    block = PseudoBlockArray(shared, bs.data_block_sizes)\n",
    "    _BandedBlockBandedMatrix(block, bs)\n",
    "end\n",
    "\n",
    "@everywhere function SharedBandedBlockBandedMatrix{T}(\n",
    "        ::UndefInitializer,\n",
    "        dims::NTuple{2, AbstractVector{Int}},\n",
    "        lu::NTuple{2, Int},\n",
    "        λμ::NTuple{2, Int};\n",
    "        kwargs...\n",
    ") where T\n",
    "    blocksizes = BandedBlockBandedSizes(dims..., lu..., λμ...)\n",
    "    SharedBandedBlockBandedMatrix{T}(undef, blocksizes; kwargs...)\n",
    "end"
   ]
  },
  {
   "cell_type": "markdown",
   "metadata": {},
   "source": [
    "To illustrate this, let's create a banded block banded matrix with blocks\n",
    "composed of 10x10 matrices (`n` and `m`), with the band of blocks from `l` to\n",
    "`u` and each block banded from `λ` to `μ`."
   ]
  },
  {
   "cell_type": "code",
   "execution_count": null,
   "metadata": {},
   "outputs": [],
   "source": [
    "N, n = 2, 3\n",
    "l, u, λ, μ = 1, 0, 0, 2\n",
    "M, m = N + 1, n + 1\n",
    "A = SharedBandedBlockBandedMatrix{Float64}(undef, (repeat([n], N), repeat([m], M)), (l, u), (λ, μ))"
   ]
  },
  {
   "cell_type": "markdown",
   "metadata": {},
   "source": [
    "But what we really want to do is to populate the matrix in parallel. We can do\n",
    "this by allocating blocks for each process to write to:"
   ]
  },
  {
   "cell_type": "code",
   "execution_count": null,
   "metadata": {},
   "outputs": [],
   "source": [
    "@everywhere function populate!(\n",
    "        A::SharedBandedBlockBandedMatrix, block_populate!::Function)\n",
    "    @sync begin\n",
    "        for (p, proc) in enumerate(procs(A.data.blocks))\n",
    "            @async remotecall_wait(populate!, proc, A, p, block_populate!)\n",
    "        end\n",
    "    end\n",
    "    A\n",
    "end\n",
    "\n",
    "@everywhere function nmutableblocks(A::SharedBandedBlockBandedMatrix)\n",
    "    n = nblocks(A, 1)\n",
    "    for i in 1:nblocks(A, 1)\n",
    "        n += min(i + A.u, nblocks(A, 2)) - max(i - A.l, 1)\n",
    "    end\n",
    "    n\n",
    "end\n",
    "\n",
    "@everywhere function populate!(\n",
    "        A::SharedBandedBlockBandedMatrix, p, block_populate!::Function)\n",
    "    n = nmutableblocks(A)\n",
    "\n",
    "    m = length(procs(A.data.blocks))\n",
    "    start = (n ÷ m) * (p - 1) + min((n % m), p - 1)\n",
    "    stop = (n ÷ m) * p + min((n % m), p)\n",
    "\n",
    "    k = 0\n",
    "    for i in 1:nblocks(A, 1), j in max(i - A.l, 1):min(i + A.u, nblocks(A, 2))\n",
    "        if k >= stop\n",
    "            break\n",
    "        elseif k >= start\n",
    "            block_populate!(view(A, Block(i, j)), i, j)\n",
    "        end\n",
    "        k += 1\n",
    "    end\n",
    "    A\n",
    "end\n",
    "\n",
    "@everywhere populate!(bpop!::Function, args...) = populate!(args..., bpop!)"
   ]
  },
  {
   "cell_type": "markdown",
   "metadata": {},
   "source": [
    "Above, we first create a list with all the non-zero blocks in the matrix. We\n",
    "split it into contiguous chunks, one chunk per process, and then we order each\n",
    "process to populate those chunks only. Strictly speaking, this is more\n",
    "information then actually needs to be sent to each process. We could instead\n",
    "shift the work of computing the list of blocks to the processes and send only\n",
    "the range each process should could compute, i.e. send only two integers.\n",
    "However, we will soon find that, although this algorithm's performance is\n",
    "limited by process IO consideration (rather the compute bound), bandwidth is not\n",
    "the issue.  And this implementation is simpler.\n",
    "\n",
    "The magic happens in the `@sync` code-block. In practice, each `@async`\n",
    "generates a task and schedules it to be sent and executed by a process.\n",
    "Generating and scheduling a task takes very little time, compared to actually\n",
    "executing them (More specifically, when that statement is not true, then it's\n",
    "better to stick to running tasks serially). Then, right before exiting the\n",
    "`@sync` code-block, the tasks are sent over to the processes, and the code waits\n",
    "until the tasks are finished running."
   ]
  },
  {
   "cell_type": "markdown",
   "metadata": {},
   "source": [
    "In practice, usage looks like this:"
   ]
  },
  {
   "cell_type": "code",
   "execution_count": null,
   "metadata": {},
   "outputs": [],
   "source": [
    "populate!(A) do block, i, j\n",
    "    for x in 1:size(block, 1), y in max(x - A.λ, 1):min(x + A.μ, size(block, 2))\n",
    "        block[x, y] = 1\n",
    "    end\n",
    "end"
   ]
  },
  {
   "cell_type": "markdown",
   "metadata": {},
   "source": [
    "For comparison we also construct the serial version of populate, as well as a\n",
    "simple scheme to fill blocks with ones:"
   ]
  },
  {
   "cell_type": "code",
   "execution_count": 7,
   "metadata": {},
   "outputs": [],
   "source": [
    "@everywhere function populate!(\n",
    "        A::BandedBlockBandedMatrix, block_populate!::Function)\n",
    "    for i in 1:nblocks(A, 1), j in max(i - A.l, 1):min(i + A.u, nblocks(A, 2))\n",
    "        block_populate!(view(A, Block(i, j)), i, j)\n",
    "    end\n",
    "    A\n",
    "end\n",
    "\n",
    "@everywhere function simplefill!(A::BandedBlockBandedMatrix)\n",
    "    populate!(A) do bk, i, j\n",
    "        for x in 1:size(bk, 1), y in max(x - A.λ, 1):min(x + A.μ, size(bk, 2))\n",
    "            bk[x, y] = 1\n",
    "        end\n",
    "    end\n",
    "end"
   ]
  },
  {
   "cell_type": "markdown",
   "metadata": {},
   "source": [
    "And now we can run benchmarks:"
   ]
  },
  {
   "cell_type": "code",
   "execution_count": null,
   "metadata": {},
   "outputs": [],
   "source": [
    "using BenchmarkTools\n",
    "\n",
    "N, n = 8, 3\n",
    "l, u, λ, μ = 1, 2, 0, 1\n",
    "M, m = 6, n\n",
    "A = SharedBandedBlockBandedMatrix{Float64}(undef, (repeat([n], N), repeat([m], M)), (l, u), (λ, μ))\n",
    "nmutableblocks(A)\n",
    "@benchmark simplefill!($A)"
   ]
  },
  {
   "cell_type": "code",
   "execution_count": 9,
   "metadata": {},
   "outputs": [
    {
     "data": {
      "text/plain": [
       "BenchmarkTools.Trial: \n",
       "  memory estimate:  3.30 KiB\n",
       "  allocs estimate:  43\n",
       "  --------------\n",
       "  minimum time:     1.155 μs (0.00% GC)\n",
       "  median time:      1.198 μs (0.00% GC)\n",
       "  mean time:        1.983 μs (37.15% GC)\n",
       "  maximum time:     4.696 ms (99.95% GC)\n",
       "  --------------\n",
       "  samples:          10000\n",
       "  evals/sample:     10"
      ]
     },
     "execution_count": 9,
     "metadata": {},
     "output_type": "execute_result"
    }
   ],
   "source": [
    "B = BandedBlockBandedMatrix{Float64}(undef, (repeat([n], N), repeat([m], M)), (l, u), (λ, μ))\n",
    "@benchmark simplefill!($B)"
   ]
  },
  {
   "cell_type": "markdown",
   "metadata": {},
   "source": [
    "And that's not a win for the multi-core team... But we do not always expect a\n",
    "win in every situation. Surely, the performance depends on the size of the\n",
    "matrix? So let's try a few:"
   ]
  },
  {
   "cell_type": "code",
   "execution_count": 12,
   "metadata": {},
   "outputs": [],
   "source": [
    "n, l, u, λ, μ = 500, 1, 2, 2, 1\n",
    "serial, parallel, Ns = [], [], [10, 50, 100, 150, 200, 300, 500]\n",
    "for N = Ns\n",
    "    A = SharedBandedBlockBandedMatrix{Float64}(\n",
    "            undef, (repeat([n], N), repeat([n], N)), (l, u), (λ, μ))\n",
    "    bench = @benchmark simplefill!($A)\n",
    "    push!(parallel, bench)\n",
    "\n",
    "    B = BandedBlockBandedMatrix{Float64}(\n",
    "            undef, (repeat([n], N), repeat([n], N)), (l, u), (λ, μ))\n",
    "    bench = @benchmark simplefill!($B)\n",
    "    push!(serial, bench)\n",
    "end"
   ]
  },
  {
   "cell_type": "code",
   "execution_count": 13,
   "metadata": {},
   "outputs": [
    {
     "name": "stderr",
     "output_type": "stream",
     "text": [
      "WARN Missing type for channel \"color\", using \"nominal\" instead.\n",
      "WARN Missing type for channel \"color\", using \"nominal\" instead.\n",
      "WARN Missing type for channel \"color\", using \"nominal\" instead.\n",
      "WARN Missing type for channel \"color\", using \"nominal\" instead.\n"
     ]
    },
    {
     "data": {
      "application/vnd.vegalite.v3+json": {
       "data": {
        "values": [
         {
          "data": 2446.102213339873,
          "method": "serial",
          "n": 10
         },
         {
          "data": 19726.397062992124,
          "method": "serial",
          "n": 50
         },
         {
          "data": 42468.99507627118,
          "method": "serial",
          "n": 100
         },
         {
          "data": 41372.514735537196,
          "method": "serial",
          "n": 150
         },
         {
          "data": 53150.20294736842,
          "method": "serial",
          "n": 200
         },
         {
          "data": 88047.07054385965,
          "method": "serial",
          "n": 300
         },
         {
          "data": 154311.21124242424,
          "method": "serial",
          "n": 500
         },
         {
          "data": 3967.0123388888887,
          "method": "parallel",
          "n": 10
         },
         {
          "data": 13685.867249315068,
          "method": "parallel",
          "n": 50
         },
         {
          "data": 21713.37811688312,
          "method": "parallel",
          "n": 100
         },
         {
          "data": 35779.846835714285,
          "method": "parallel",
          "n": 150
         },
         {
          "data": 43059.35881196581,
          "method": "parallel",
          "n": 200
         },
         {
          "data": 66310.75280263158,
          "method": "parallel",
          "n": 300
         },
         {
          "data": 1118296.125,
          "method": "parallel",
          "n": 500
         }
        ]
       },
       "encoding": {
        "color": {
         "field": "method"
        },
        "x": {
         "field": "n",
         "type": "quantitative"
        },
        "y": {
         "field": "data",
         "type": "quantitative"
        }
       },
       "mark": {
        "point": true,
        "type": "line"
       }
      },
      "image/png": "[encoded data removed]",
      "image/svg+xml": [
       "<svg class=\"marks\" width=\"346\" height=\"247\" viewBox=\"0 0 346 247\" version=\"1.1\" xmlns=\"http://www.w3.org/2000/svg\" xmlns:xlink=\"http://www.w3.org/1999/xlink\"><g transform=\"translate(72,10)\"><g class=\"mark-group role-frame root\"><g transform=\"translate(0,0)\"><path class=\"background\" d=\"M0.5,0.5h200v200h-200Z\" style=\"fill: none; stroke: #ddd;\"></path><g><g class=\"mark-group role-axis\"><g transform=\"translate(0.5,200.5)\"><path class=\"background\" d=\"M0,0h0v0h0Z\" style=\"pointer-events: none; fill: none;\"></path><g><g class=\"mark-rule role-axis-grid\" style=\"pointer-events: none;\"><line transform=\"translate(0,-200)\" x2=\"0\" y2=\"200\" style=\"fill: none; stroke: #ddd; stroke-width: 1; opacity: 1;\"></line><line transform=\"translate(40,-200)\" x2=\"0\" y2=\"200\" style=\"fill: none; stroke: #ddd; stroke-width: 1; opacity: 1;\"></line><line transform=\"translate(80,-200)\" x2=\"0\" y2=\"200\" style=\"fill: none; stroke: #ddd; stroke-width: 1; opacity: 1;\"></line><line transform=\"translate(120,-200)\" x2=\"0\" y2=\"200\" style=\"fill: none; stroke: #ddd; stroke-width: 1; opacity: 1;\"></line><line transform=\"translate(160,-200)\" x2=\"0\" y2=\"200\" style=\"fill: none; stroke: #ddd; stroke-width: 1; opacity: 1;\"></line><line transform=\"translate(200,-200)\" x2=\"0\" y2=\"200\" style=\"fill: none; stroke: #ddd; stroke-width: 1; opacity: 1;\"></line></g></g></g></g><g class=\"mark-group role-axis\"><g transform=\"translate(0.5,0.5)\"><path class=\"background\" d=\"M0,0h0v0h0Z\" style=\"pointer-events: none; fill: none;\"></path><g><g class=\"mark-rule role-axis-grid\" style=\"pointer-events: none;\"><line transform=\"translate(0,200)\" x2=\"200\" y2=\"0\" style=\"fill: none; stroke: #ddd; stroke-width: 1; opacity: 1;\"></line><line transform=\"translate(0,167)\" x2=\"200\" y2=\"0\" style=\"fill: none; stroke: #ddd; stroke-width: 1; opacity: 1;\"></line><line transform=\"translate(0,133)\" x2=\"200\" y2=\"0\" style=\"fill: none; stroke: #ddd; stroke-width: 1; opacity: 1;\"></line><line transform=\"translate(0,100)\" x2=\"200\" y2=\"0\" style=\"fill: none; stroke: #ddd; stroke-width: 1; opacity: 1;\"></line><line transform=\"translate(0,67)\" x2=\"200\" y2=\"0\" style=\"fill: none; stroke: #ddd; stroke-width: 1; opacity: 1;\"></line><line transform=\"translate(0,33)\" x2=\"200\" y2=\"0\" style=\"fill: none; stroke: #ddd; stroke-width: 1; opacity: 1;\"></line><line transform=\"translate(0,0)\" x2=\"200\" y2=\"0\" style=\"fill: none; stroke: #ddd; stroke-width: 1; opacity: 1;\"></line></g></g></g></g><g class=\"mark-group role-scope layer_0_pathgroup\"><g transform=\"translate(0,0)\"><path class=\"background\" d=\"M0,0h200v200h-200Z\" style=\"fill: none;\"></path><g><g class=\"mark-line role-mark layer_0_marks\"><path d=\"M200,174.28146479292928L120,185.32548824269006L80,191.14163284210525L60,193.10458087741046L40,192.9218341539548L20,196.71226715616797L4,199.59231629777668\" style=\"fill: none; stroke: #f58518; stroke-width: 2;\"></path></g></g></g><g transform=\"translate(0,0)\"><path class=\"background\" d=\"M0,0h200v200h-200Z\" style=\"fill: none;\"></path><g><g class=\"mark-line role-mark layer_0_marks\"><path d=\"M200,13.617312499999997L120,188.94820786622807L80,192.8234401980057L60,194.03669219404762L40,196.38110364718614L20,197.71902212511415L4,199.33883127685186\" style=\"fill: none; stroke: #4c78a8; stroke-width: 2;\"></path></g></g></g></g><g class=\"mark-symbol role-mark layer_1_marks\"><path transform=\"translate(4,199.59231629777668)\" d=\"M2.7386127875258306,0A2.7386127875258306,2.7386127875258306,0,1,1,-2.7386127875258306,0A2.7386127875258306,2.7386127875258306,0,1,1,2.7386127875258306,0\" style=\"fill: #f58518; stroke-width: 2; opacity: 1;\"></path><path transform=\"translate(20,196.71226715616797)\" d=\"M2.7386127875258306,0A2.7386127875258306,2.7386127875258306,0,1,1,-2.7386127875258306,0A2.7386127875258306,2.7386127875258306,0,1,1,2.7386127875258306,0\" style=\"fill: #f58518; stroke-width: 2; opacity: 1;\"></path><path transform=\"translate(40,192.9218341539548)\" d=\"M2.7386127875258306,0A2.7386127875258306,2.7386127875258306,0,1,1,-2.7386127875258306,0A2.7386127875258306,2.7386127875258306,0,1,1,2.7386127875258306,0\" style=\"fill: #f58518; stroke-width: 2; opacity: 1;\"></path><path transform=\"translate(60,193.10458087741046)\" d=\"M2.7386127875258306,0A2.7386127875258306,2.7386127875258306,0,1,1,-2.7386127875258306,0A2.7386127875258306,2.7386127875258306,0,1,1,2.7386127875258306,0\" style=\"fill: #f58518; stroke-width: 2; opacity: 1;\"></path><path transform=\"translate(80,191.14163284210525)\" d=\"M2.7386127875258306,0A2.7386127875258306,2.7386127875258306,0,1,1,-2.7386127875258306,0A2.7386127875258306,2.7386127875258306,0,1,1,2.7386127875258306,0\" style=\"fill: #f58518; stroke-width: 2; opacity: 1;\"></path><path transform=\"translate(120,185.32548824269006)\" d=\"M2.7386127875258306,0A2.7386127875258306,2.7386127875258306,0,1,1,-2.7386127875258306,0A2.7386127875258306,2.7386127875258306,0,1,1,2.7386127875258306,0\" style=\"fill: #f58518; stroke-width: 2; opacity: 1;\"></path><path transform=\"translate(200,174.28146479292928)\" d=\"M2.7386127875258306,0A2.7386127875258306,2.7386127875258306,0,1,1,-2.7386127875258306,0A2.7386127875258306,2.7386127875258306,0,1,1,2.7386127875258306,0\" style=\"fill: #f58518; stroke-width: 2; opacity: 1;\"></path><path transform=\"translate(4,199.33883127685186)\" d=\"M2.7386127875258306,0A2.7386127875258306,2.7386127875258306,0,1,1,-2.7386127875258306,0A2.7386127875258306,2.7386127875258306,0,1,1,2.7386127875258306,0\" style=\"fill: #4c78a8; stroke-width: 2; opacity: 1;\"></path><path transform=\"translate(20,197.71902212511415)\" d=\"M2.7386127875258306,0A2.7386127875258306,2.7386127875258306,0,1,1,-2.7386127875258306,0A2.7386127875258306,2.7386127875258306,0,1,1,2.7386127875258306,0\" style=\"fill: #4c78a8; stroke-width: 2; opacity: 1;\"></path><path transform=\"translate(40,196.38110364718614)\" d=\"M2.7386127875258306,0A2.7386127875258306,2.7386127875258306,0,1,1,-2.7386127875258306,0A2.7386127875258306,2.7386127875258306,0,1,1,2.7386127875258306,0\" style=\"fill: #4c78a8; stroke-width: 2; opacity: 1;\"></path><path transform=\"translate(60,194.03669219404762)\" d=\"M2.7386127875258306,0A2.7386127875258306,2.7386127875258306,0,1,1,-2.7386127875258306,0A2.7386127875258306,2.7386127875258306,0,1,1,2.7386127875258306,0\" style=\"fill: #4c78a8; stroke-width: 2; opacity: 1;\"></path><path transform=\"translate(80,192.8234401980057)\" d=\"M2.7386127875258306,0A2.7386127875258306,2.7386127875258306,0,1,1,-2.7386127875258306,0A2.7386127875258306,2.7386127875258306,0,1,1,2.7386127875258306,0\" style=\"fill: #4c78a8; stroke-width: 2; opacity: 1;\"></path><path transform=\"translate(120,188.94820786622807)\" d=\"M2.7386127875258306,0A2.7386127875258306,2.7386127875258306,0,1,1,-2.7386127875258306,0A2.7386127875258306,2.7386127875258306,0,1,1,2.7386127875258306,0\" style=\"fill: #4c78a8; stroke-width: 2; opacity: 1;\"></path><path transform=\"translate(200,13.617312499999997)\" d=\"M2.7386127875258306,0A2.7386127875258306,2.7386127875258306,0,1,1,-2.7386127875258306,0A2.7386127875258306,2.7386127875258306,0,1,1,2.7386127875258306,0\" style=\"fill: #4c78a8; stroke-width: 2; opacity: 1;\"></path></g><g class=\"mark-group role-legend\"><g transform=\"translate(220,0)\"><path class=\"background\" d=\"M0,0h49v45h-49Z\" style=\"pointer-events: none; fill: none;\"></path><g><g class=\"mark-group role-legend-entry\"><g transform=\"translate(0,16)\"><path class=\"background\" d=\"M0,0h0v0h0Z\" style=\"pointer-events: none; fill: none;\"></path><g><g class=\"mark-group role-scope\"><g transform=\"translate(0,0)\"><path class=\"background\" d=\"M0,0h48.2412109375v12.5h-48.2412109375Z\" style=\"pointer-events: none; fill: none; opacity: 1;\"></path><g><g class=\"mark-symbol role-legend-symbol\" style=\"pointer-events: none;\"><path transform=\"translate(6,6)\" d=\"M5,0A5,5,0,1,1,-5,0A5,5,0,1,1,5,0\" style=\"fill: #4c78a8; stroke: #4c78a8; stroke-width: 1.5; opacity: 1;\"></path></g><g class=\"mark-text role-legend-label\" style=\"pointer-events: none;\"><text text-anchor=\"start\" transform=\"translate(16,9)\" style=\"font-family: sans-serif; font-size: 10px; fill: #000; opacity: 1;\">parallel</text></g></g></g><g transform=\"translate(0,16)\"><path class=\"background\" d=\"M0,0h48.2412109375v12.5h-48.2412109375Z\" style=\"pointer-events: none; fill: none; opacity: 1;\"></path><g><g class=\"mark-symbol role-legend-symbol\" style=\"pointer-events: none;\"><path transform=\"translate(6,6)\" d=\"M5,0A5,5,0,1,1,-5,0A5,5,0,1,1,5,0\" style=\"fill: #f58518; stroke: #f58518; stroke-width: 1.5; opacity: 1;\"></path></g><g class=\"mark-text role-legend-label\" style=\"pointer-events: none;\"><text text-anchor=\"start\" transform=\"translate(16,9)\" style=\"font-family: sans-serif; font-size: 10px; fill: #000; opacity: 1;\">serial</text></g></g></g></g></g></g></g><g class=\"mark-text role-legend-title\" style=\"pointer-events: none;\"><text text-anchor=\"start\" transform=\"translate(0,9)\" style=\"font-family: sans-serif; font-size: 11px; font-weight: bold; fill: #000; opacity: 1;\">method</text></g></g></g></g><g class=\"mark-group role-axis\"><g transform=\"translate(0.5,200.5)\"><path class=\"background\" d=\"M0,0h0v0h0Z\" style=\"pointer-events: none; fill: none;\"></path><g><g class=\"mark-rule role-axis-tick\" style=\"pointer-events: none;\"><line transform=\"translate(0,0)\" x2=\"0\" y2=\"5\" style=\"fill: none; stroke: #888; stroke-width: 1; opacity: 1;\"></line><line transform=\"translate(40,0)\" x2=\"0\" y2=\"5\" style=\"fill: none; stroke: #888; stroke-width: 1; opacity: 1;\"></line><line transform=\"translate(80,0)\" x2=\"0\" y2=\"5\" style=\"fill: none; stroke: #888; stroke-width: 1; opacity: 1;\"></line><line transform=\"translate(120,0)\" x2=\"0\" y2=\"5\" style=\"fill: none; stroke: #888; stroke-width: 1; opacity: 1;\"></line><line transform=\"translate(160,0)\" x2=\"0\" y2=\"5\" style=\"fill: none; stroke: #888; stroke-width: 1; opacity: 1;\"></line><line transform=\"translate(200,0)\" x2=\"0\" y2=\"5\" style=\"fill: none; stroke: #888; stroke-width: 1; opacity: 1;\"></line></g><g class=\"mark-text role-axis-label\" style=\"pointer-events: none;\"><text text-anchor=\"start\" transform=\"translate(0,15)\" style=\"font-family: sans-serif; font-size: 10px; fill: #000; opacity: 1;\">0</text><text text-anchor=\"middle\" transform=\"translate(40,15)\" style=\"font-family: sans-serif; font-size: 10px; fill: #000; opacity: 1;\">100</text><text text-anchor=\"middle\" transform=\"translate(80,15)\" style=\"font-family: sans-serif; font-size: 10px; fill: #000; opacity: 1;\">200</text><text text-anchor=\"middle\" transform=\"translate(120,15)\" style=\"font-family: sans-serif; font-size: 10px; fill: #000; opacity: 1;\">300</text><text text-anchor=\"middle\" transform=\"translate(160,15)\" style=\"font-family: sans-serif; font-size: 10px; fill: #000; opacity: 1;\">400</text><text text-anchor=\"end\" transform=\"translate(200,15)\" style=\"font-family: sans-serif; font-size: 10px; fill: #000; opacity: 1;\">500</text></g><g class=\"mark-rule role-axis-domain\" style=\"pointer-events: none;\"><line transform=\"translate(0,0)\" x2=\"200\" y2=\"0\" style=\"fill: none; stroke: #888; stroke-width: 1; opacity: 1;\"></line></g><g class=\"mark-text role-axis-title\" style=\"pointer-events: none;\"><text text-anchor=\"middle\" transform=\"translate(100,30)\" style=\"font-family: sans-serif; font-size: 11px; font-weight: bold; fill: #000; opacity: 1;\">n</text></g></g></g></g><g class=\"mark-group role-axis\"><g transform=\"translate(0.5,0.5)\"><path class=\"background\" d=\"M0,0h0v0h0Z\" style=\"pointer-events: none; fill: none;\"></path><g><g class=\"mark-rule role-axis-tick\" style=\"pointer-events: none;\"><line transform=\"translate(0,200)\" x2=\"-5\" y2=\"0\" style=\"fill: none; stroke: #888; stroke-width: 1; opacity: 1;\"></line><line transform=\"translate(0,167)\" x2=\"-5\" y2=\"0\" style=\"fill: none; stroke: #888; stroke-width: 1; opacity: 1;\"></line><line transform=\"translate(0,133)\" x2=\"-5\" y2=\"0\" style=\"fill: none; stroke: #888; stroke-width: 1; opacity: 1;\"></line><line transform=\"translate(0,100)\" x2=\"-5\" y2=\"0\" style=\"fill: none; stroke: #888; stroke-width: 1; opacity: 1;\"></line><line transform=\"translate(0,67)\" x2=\"-5\" y2=\"0\" style=\"fill: none; stroke: #888; stroke-width: 1; opacity: 1;\"></line><line transform=\"translate(0,33)\" x2=\"-5\" y2=\"0\" style=\"fill: none; stroke: #888; stroke-width: 1; opacity: 1;\"></line><line transform=\"translate(0,0)\" x2=\"-5\" y2=\"0\" style=\"fill: none; stroke: #888; stroke-width: 1; opacity: 1;\"></line></g><g class=\"mark-text role-axis-label\" style=\"pointer-events: none;\"><text text-anchor=\"end\" transform=\"translate(-7,203)\" style=\"font-family: sans-serif; font-size: 10px; fill: #000; opacity: 1;\">0</text><text text-anchor=\"end\" transform=\"translate(-7,169.66666666666669)\" style=\"font-family: sans-serif; font-size: 10px; fill: #000; opacity: 1;\">200,000</text><text text-anchor=\"end\" transform=\"translate(-7,136.33333333333334)\" style=\"font-family: sans-serif; font-size: 10px; fill: #000; opacity: 1;\">400,000</text><text text-anchor=\"end\" transform=\"translate(-7,103)\" style=\"font-family: sans-serif; font-size: 10px; fill: #000; opacity: 1;\">600,000</text><text text-anchor=\"end\" transform=\"translate(-7,69.66666666666669)\" style=\"font-family: sans-serif; font-size: 10px; fill: #000; opacity: 1;\">800,000</text><text text-anchor=\"end\" transform=\"translate(-7,36.333333333333314)\" style=\"font-family: sans-serif; font-size: 10px; fill: #000; opacity: 1;\">1,000,000</text><text text-anchor=\"end\" transform=\"translate(-7,3)\" style=\"font-family: sans-serif; font-size: 10px; fill: #000; opacity: 1;\">1,200,000</text></g><g class=\"mark-rule role-axis-domain\" style=\"pointer-events: none;\"><line transform=\"translate(0,200)\" x2=\"0\" y2=\"-200\" style=\"fill: none; stroke: #888; stroke-width: 1; opacity: 1;\"></line></g><g class=\"mark-text role-axis-title\" style=\"pointer-events: none;\"><text text-anchor=\"middle\" transform=\"translate(-55.4873046875,100) rotate(-90) translate(0,-2)\" style=\"font-family: sans-serif; font-size: 11px; font-weight: bold; fill: #000; opacity: 1;\">data</text></g></g></g></g></g></g></g></g></svg>"
      ],
      "text/plain": [
       "VegaLite.VLSpec{:plot}"
      ]
     },
     "execution_count": 13,
     "metadata": {},
     "output_type": "execute_result"
    }
   ],
   "source": [
    "using VegaLite, DataFrames, Statistics\n",
    "DataFrame(\n",
    "    data = vcat(\n",
    "        getfield.(mean.(serial), :time) ./ 1000,\n",
    "        getfield.(mean.(parallel), :time) ./ 1000,\n",
    "    ),\n",
    "    n = repeat(Ns, 2),\n",
    "    method=vcat(\n",
    "        repeat([:serial], length(Ns)),\n",
    "        repeat([:parallel], length(Ns))\n",
    "    )\n",
    ") |> @vlplot(mark={:line, point=:true}, x=:n, y=:data, color=:method)"
   ]
  },
  {
   "cell_type": "code",
   "execution_count": null,
   "metadata": {},
   "outputs": [],
   "source": []
  },
  {
   "cell_type": "code",
   "execution_count": null,
   "metadata": {},
   "outputs": [],
   "source": [
    "|"
   ]
  }
 ],
 "metadata": {
  "kernelspec": {
   "display_name": "Julia 1.1.1",
   "language": "julia",
   "name": "julia-1.1"
  },
  "language_info": {
   "file_extension": ".jl",
   "mimetype": "application/julia",
   "name": "julia",
   "version": "1.1.1"
  }
 },
 "nbformat": 4,
 "nbformat_minor": 2
}
