{
 "cells": [
  {
   "cell_type": "markdown",
   "metadata": {
    "lines_to_next_cell": 0
   },
   "source": [
    "In order to run the code in parallel, we first need to add some julia processes."
   ]
  },
  {
   "cell_type": "code",
   "execution_count": 1,
   "metadata": {
    "lines_to_next_cell": 0
   },
   "outputs": [
    {
     "data": {
      "text/plain": [
       "4"
      ]
     },
     "execution_count": 1,
     "metadata": {},
     "output_type": "execute_result"
    }
   ],
   "source": [
    "using Distributed\n",
    "nprocs() < 3 && addprocs(3)\n",
    "@everywhere begin\n",
    "    using Pkg\n",
    "    Pkg.activate(\".\")\n",
    "end\n",
    "nprocs()"
   ]
  },
  {
   "cell_type": "markdown",
   "metadata": {},
   "source": [
    "The `@everywhere` block activates the current project on the workers. By\n",
    "default, the workers are created as any other julia session, e.g. defaulting to\n",
    "the project `vx.y` with `x.y` the current version of julia, unless the\n",
    "environment variable\n",
    "['JULIA_PROJECT'](https://docs.julialang.org/en/v1/manual/environment-variables/index.html#JULIA_PROJECT-1)\n",
    "is set."
   ]
  },
  {
   "cell_type": "code",
   "execution_count": 2,
   "metadata": {},
   "outputs": [],
   "source": [
    "@everywhere begin\n",
    "    using Pkg\n",
    "    Pkg.activate(pwd())\n",
    "    using BlockBandedMatrices: BandedBlockBandedMatrix, _BandedBlockBandedMatrix\n",
    "    using BlockBandedMatrices: BandedBlockBandedSizes\n",
    "    using BlockArrays: PseudoBlockArray, Block, nblocks\n",
    "    using SharedArrays: SharedArray\n",
    "\n",
    "    const SharedPseudoBlock = \n",
    "        PseudoBlockArray{T, 2, SharedArray{T, 2}, B} where {T, B}\n",
    "    const SharedBandedBlockBandedMatrix =\n",
    "        BandedBlockBandedMatrix{T, SharedPseudoBlock{T, B}} where {T, B}\n",
    "end"
   ]
  },
  {
   "cell_type": "markdown",
   "metadata": {},
   "source": [
    "So we have a shared array at the very bottom. It holds the actual data. On it,\n",
    "we layer an abstraction, the `PseudoBlockArray` that allows us to view the\n",
    "shared array as an array of blocks. On top of that, the\n",
    "`BandedBlockBandedMatrix` adds another layer of abstraction to the view the\n",
    "block array as banded matrix of block banded matrices.\n",
    "\n",
    "We can now create an overloaded function to initialize the array:"
   ]
  },
  {
   "cell_type": "code",
   "execution_count": 3,
   "metadata": {},
   "outputs": [],
   "source": [
    "@everywhere function SharedBandedBlockBandedMatrix{T}(\n",
    "        ::UndefInitializer, bs::BandedBlockBandedSizes; kwargs...) where T\n",
    "    shared = SharedArray{T}(size(bs); kwargs...)\n",
    "    block = PseudoBlockArray(shared, bs.data_block_sizes)\n",
    "    _BandedBlockBandedMatrix(block, bs)\n",
    "end\n",
    "\n",
    "@everywhere function SharedBandedBlockBandedMatrix{T}(\n",
    "        ::UndefInitializer,\n",
    "        dims::NTuple{2, AbstractVector{Int}},\n",
    "        lu::NTuple{2, Int},\n",
    "        λμ::NTuple{2, Int};\n",
    "        kwargs...\n",
    ") where T\n",
    "    blocksizes = BandedBlockBandedSizes(dims..., lu..., λμ...)\n",
    "    SharedBandedBlockBandedMatrix{T}(undef, blocksizes; kwargs...)\n",
    "end"
   ]
  },
  {
   "cell_type": "markdown",
   "metadata": {},
   "source": [
    "To illustrate this, let's create a banded block banded matrix with blocks\n",
    "composed of 10x10 matrices (`n` and `m`), with the band of blocks from `l` to\n",
    "`u` and each block banded from `λ` to `μ`."
   ]
  },
  {
   "cell_type": "code",
   "execution_count": 4,
   "metadata": {},
   "outputs": [
    {
     "data": {
      "text/plain": [
       "2×3-blocked 6×12 BandedBlockBandedMatrix{Float64,PseudoBlockArray{Float64,2,SharedArray{Float64,2},BlockArrays.BlockSizes{2,Tuple{Array{Int64,1},Array{Int64,1}}}}}:\n",
       " 0.0  0.0  0.0   ⋅   │   ⋅    ⋅    ⋅    ⋅   │   ⋅    ⋅    ⋅    ⋅ \n",
       "  ⋅   0.0  0.0  0.0  │   ⋅    ⋅    ⋅    ⋅   │   ⋅    ⋅    ⋅    ⋅ \n",
       "  ⋅    ⋅   0.0  0.0  │   ⋅    ⋅    ⋅    ⋅   │   ⋅    ⋅    ⋅    ⋅ \n",
       " ────────────────────┼──────────────────────┼────────────────────\n",
       " 0.0  0.0  0.0   ⋅   │  0.0  0.0  0.0   ⋅   │   ⋅    ⋅    ⋅    ⋅ \n",
       "  ⋅   0.0  0.0  0.0  │   ⋅   0.0  0.0  0.0  │   ⋅    ⋅    ⋅    ⋅ \n",
       "  ⋅    ⋅   0.0  0.0  │   ⋅    ⋅   0.0  0.0  │   ⋅    ⋅    ⋅    ⋅ "
      ]
     },
     "execution_count": 4,
     "metadata": {},
     "output_type": "execute_result"
    }
   ],
   "source": [
    "N, n = 2, 3\n",
    "l, u, λ, μ = 1, 0, 0, 2\n",
    "M, m = N + 1, n + 1\n",
    "A = SharedBandedBlockBandedMatrix{Float64}(undef, (repeat([n], N), repeat([m], M)), (l, u), (λ, μ))"
   ]
  },
  {
   "cell_type": "markdown",
   "metadata": {},
   "source": [
    "But what we really want to do is to populate the matrix in parallel. We can do\n",
    "this by allocating blocks for each process to write to:"
   ]
  },
  {
   "cell_type": "code",
   "execution_count": 21,
   "metadata": {},
   "outputs": [],
   "source": [
    "@everywhere begin\n",
    "    \"\"\"Populates the shared banded block banded matrix in parallel\"\"\"\n",
    "    function populate!(\n",
    "            block_populate!::Function, A::SharedBandedBlockBandedMatrix)\n",
    "        @sync begin\n",
    "            for (p, proc) in enumerate(procs(A.data.blocks))\n",
    "                @async remotecall_wait(populate!, proc, block_populate!, A, p)\n",
    "            end\n",
    "        end\n",
    "        A\n",
    "    end\n",
    "\n",
    "    \"\"\"Populates the blocks of A that are assigned to process p.\"\"\"\n",
    "    function populate!(\n",
    "            block_populate!::Function, A::SharedBandedBlockBandedMatrix, p)\n",
    "        n = sum(\n",
    "            min(i + A.u, nblocks(A, 2)) -  max(i - A.l, 1) + 1\n",
    "            for i in 1:nblocks(A, 1)\n",
    "        )\n",
    "        m = length(procs(A.data.blocks))\n",
    "        start = (n ÷ m) * (p - 1) + min((n % m), p - 1)\n",
    "        stop = (n ÷ m) * p + min((n % m), p)\n",
    "        k = 0\n",
    "        for i in 1:nblocks(A, 1), j in max(i - A.l, 1):min(i + A.u, nblocks(A, 2))\n",
    "            if k >= stop\n",
    "                break\n",
    "            elseif k >= start\n",
    "                block_populate!(view(A, Block(i, j)), i, j)\n",
    "            end\n",
    "            k += 1\n",
    "        end\n",
    "        A\n",
    "    end\n",
    "end"
   ]
  },
  {
   "cell_type": "markdown",
   "metadata": {},
   "source": [
    "The code proceeds in a cascade of three steps. First we have a functions to\n",
    "signal workers to start working. Then we have a funtion that will run on each\n",
    "worker process. It simply parcels out the list of mutable blocks in the banded\n",
    "matrix and figures out which are assigned to it's process id. For each assigned\n",
    "block, it then calls the third function in the cascade, to actually populate the\n",
    "given block.\n",
    "\n",
    "Performance-minded users will notice that this simple-minded implementation runs\n",
    "on idle for a fair bit of the loop over blocks. But in practice, this is a small\n",
    "waste compared to latency issues we will soon dive into.\n",
    "\n",
    "The magic happens in the `@sync` for loop. In practice, each `@async` loop item\n",
    "generates a task and schedules it to be sent and executed by a process.  Then,\n",
    "right before exiting the `@sync` code-block, the tasks are sent over to the\n",
    "processes, and the code waits until the tasks are finished running.\n",
    "\n",
    "In practice, usage looks like this:"
   ]
  },
  {
   "cell_type": "code",
   "execution_count": 22,
   "metadata": {},
   "outputs": [
    {
     "data": {
      "text/plain": [
       "2×3-blocked 6×12 BandedBlockBandedMatrix{Float64,PseudoBlockArray{Float64,2,SharedArray{Float64,2},BlockArrays.BlockSizes{2,Tuple{Array{Int64,1},Array{Int64,1}}}}}:\n",
       " 1.0  1.0  1.0   ⋅   │   ⋅    ⋅    ⋅    ⋅   │   ⋅    ⋅    ⋅    ⋅ \n",
       "  ⋅   1.0  1.0  1.0  │   ⋅    ⋅    ⋅    ⋅   │   ⋅    ⋅    ⋅    ⋅ \n",
       "  ⋅    ⋅   1.0  1.0  │   ⋅    ⋅    ⋅    ⋅   │   ⋅    ⋅    ⋅    ⋅ \n",
       " ────────────────────┼──────────────────────┼────────────────────\n",
       " 1.0  1.0  1.0   ⋅   │  1.0  1.0  1.0   ⋅   │   ⋅    ⋅    ⋅    ⋅ \n",
       "  ⋅   1.0  1.0  1.0  │   ⋅   1.0  1.0  1.0  │   ⋅    ⋅    ⋅    ⋅ \n",
       "  ⋅    ⋅   1.0  1.0  │   ⋅    ⋅   1.0  1.0  │   ⋅    ⋅    ⋅    ⋅ "
      ]
     },
     "execution_count": 22,
     "metadata": {},
     "output_type": "execute_result"
    }
   ],
   "source": [
    "populate!(A) do block, i, j\n",
    "    # block: a view of the block to populate\n",
    "    # i, j: indices of the block\n",
    "    for x in 1:size(block, 1), y in max(x - A.λ, 1):min(x + A.μ, size(block, 2))\n",
    "        block[x, y] = 1\n",
    "    end\n",
    "end"
   ]
  },
  {
   "cell_type": "markdown",
   "metadata": {},
   "source": [
    "For comparison we also construct the serial version of populate, as well as a\n",
    "simple scheme to fill blocks with ones:"
   ]
  },
  {
   "cell_type": "code",
   "execution_count": 31,
   "metadata": {},
   "outputs": [],
   "source": [
    "@everywhere function populate!(\n",
    "        block_populate!::Function, A::BandedBlockBandedMatrix)\n",
    "    for i in 1:nblocks(A, 1), j in max(i - A.l, 1):min(i + A.u, nblocks(A, 2))\n",
    "        block_populate!(view(A, Block(i, j)), i, j)\n",
    "    end\n",
    "    A\n",
    "end\n",
    "\n",
    "@everywhere function simplefill!(A::BandedBlockBandedMatrix)\n",
    "    populate!(A) do bk, i, j\n",
    "        for x in 1:size(bk, 1), y in max(x - A.λ, 1):min(x + A.μ, size(bk, 2))\n",
    "            bk[x, y] = 1\n",
    "        end\n",
    "    end\n",
    "end"
   ]
  },
  {
   "cell_type": "markdown",
   "metadata": {},
   "source": [
    "And now we can run benchmarks:"
   ]
  },
  {
   "cell_type": "code",
   "execution_count": 32,
   "metadata": {},
   "outputs": [
    {
     "data": {
      "text/plain": [
       "BenchmarkTools.Trial: \n",
       "  memory estimate:  22.58 KiB\n",
       "  allocs estimate:  414\n",
       "  --------------\n",
       "  minimum time:     715.410 μs (0.00% GC)\n",
       "  median time:      846.439 μs (0.00% GC)\n",
       "  mean time:        916.948 μs (3.02% GC)\n",
       "  maximum time:     112.000 ms (88.85% GC)\n",
       "  --------------\n",
       "  samples:          5417\n",
       "  evals/sample:     1"
      ]
     },
     "execution_count": 32,
     "metadata": {},
     "output_type": "execute_result"
    }
   ],
   "source": [
    "using BenchmarkTools\n",
    "\n",
    "N, n = 8, 3\n",
    "l, u, λ, μ = 1, 2, 0, 1\n",
    "M, m = 6, n\n",
    "A = SharedBandedBlockBandedMatrix{Float64}(undef, (repeat([n], N), repeat([m], M)), (l, u), (λ, μ))\n",
    "@benchmark simplefill!($A)"
   ]
  },
  {
   "cell_type": "code",
   "execution_count": 33,
   "metadata": {},
   "outputs": [
    {
     "data": {
      "text/plain": [
       "BenchmarkTools.Trial: \n",
       "  memory estimate:  9.86 KiB\n",
       "  allocs estimate:  127\n",
       "  --------------\n",
       "  minimum time:     5.593 μs (0.00% GC)\n",
       "  median time:      5.980 μs (0.00% GC)\n",
       "  mean time:        9.163 μs (28.97% GC)\n",
       "  maximum time:     12.282 ms (99.89% GC)\n",
       "  --------------\n",
       "  samples:          10000\n",
       "  evals/sample:     6"
      ]
     },
     "execution_count": 33,
     "metadata": {},
     "output_type": "execute_result"
    }
   ],
   "source": [
    "B = BandedBlockBandedMatrix{Float64}(undef, (repeat([n], N), repeat([m], M)), (l, u), (λ, μ))\n",
    "@benchmark simplefill!($B)"
   ]
  },
  {
   "cell_type": "markdown",
   "metadata": {},
   "source": [
    "And that's not a win for the multi-core team... But we do not always expect a\n",
    "win in every situation. Surely, the performance depends on the size of the\n",
    "matrix? So let's try a few:"
   ]
  },
  {
   "cell_type": "code",
   "execution_count": null,
   "metadata": {},
   "outputs": [],
   "source": [
    "n, l, u, λ, μ = 500, 1, 2, 2, 1\n",
    "serial, parallel, Ns = [], [], [10, 50, 100, 150, 200, 300, 500]\n",
    "for N = Ns\n",
    "    A = SharedBandedBlockBandedMatrix{Float64}(\n",
    "            undef, (repeat([n], N), repeat([n], N)), (l, u), (λ, μ))\n",
    "    bench = @benchmark simplefill!($A)\n",
    "    push!(parallel, bench)\n",
    "\n",
    "    B = BandedBlockBandedMatrix{Float64}(\n",
    "            undef, (repeat([n], N), repeat([n], N)), (l, u), (λ, μ))\n",
    "    bench = @benchmark simplefill!($B)\n",
    "    push!(serial, bench)\n",
    "end"
   ]
  },
  {
   "cell_type": "code",
   "execution_count": null,
   "metadata": {},
   "outputs": [],
   "source": [
    "using VegaLite, DataFrames, Statistics\n",
    "DataFrame(\n",
    "    mean = vcat(\n",
    "        getfield.(mean.(serial), :time) ./ 1000,\n",
    "        getfield.(mean.(parallel), :time) ./ 1000,\n",
    "    ),\n",
    "    stddev = vcat(\n",
    "        std.(getfield.(serial, :times)) ./ 1000,\n",
    "        std.(getfield.(parallel, :times)) ./ 1000\n",
    "    ),\n",
    "    n = repeat(Ns, 2),\n",
    "    method=vcat(\n",
    "        repeat([:serial], length(Ns)),\n",
    "        repeat([:parallel], length(Ns))\n",
    "    )\n",
    ") |> (\n",
    "    @vlplot(mark={:line, point=:true}, x=:n, y=:mean, color=:method) +\n",
    "    @vlplot(\n",
    "        mark={:errorband, extent=:ci},\n",
    "        n=:n,\n",
    "        y=:stddev\n",
    "    )\n",
    ")"
   ]
  },
  {
   "cell_type": "code",
   "execution_count": 14,
   "metadata": {},
   "outputs": [
    {
     "data": {
      "text/plain": [
       "7-element Array{Float64,1}:\n",
       "  303.8889937782906\n",
       "  747.7536767424269\n",
       " 1339.3343172786615\n",
       "  899.3954615635149\n",
       "  310.9093080492296\n",
       " 3391.0202258713753\n",
       " 3315.8159739456196"
      ]
     },
     "execution_count": 14,
     "metadata": {},
     "output_type": "execute_result"
    }
   ],
   "source": [
    "std.(getfield.(serial, :times)) ./ 10000"
   ]
  },
  {
   "cell_type": "code",
   "execution_count": 15,
   "metadata": {},
   "outputs": [
    {
     "data": {
      "text/plain": [
       "7-element Array{Float64,1}:\n",
       "   476.9193021988528\n",
       "  2775.319064640884 \n",
       "  5451.698193478261 \n",
       "  8101.326285483871 \n",
       " 10480.640877083333 \n",
       " 18175.371239285712 \n",
       " 28587.91227222222  "
      ]
     },
     "execution_count": 15,
     "metadata": {},
     "output_type": "execute_result"
    }
   ],
   "source": [
    "mean.(getfield.(serial, :times)) ./ 10000"
   ]
  },
  {
   "cell_type": "code",
   "execution_count": 16,
   "metadata": {},
   "outputs": [
    {
     "data": {
      "text/plain": [
       "7-element Array{Float64,1}:\n",
       " 318.24505392235704\n",
       " 661.6445949526782 \n",
       " 299.16077736186764\n",
       " 522.0748811666896 \n",
       " 776.0944252164588 \n",
       " 584.9854600656942 \n",
       " 952.1325470190965 "
      ]
     },
     "execution_count": 16,
     "metadata": {},
     "output_type": "execute_result"
    }
   ],
   "source": [
    "std.(getfield.(parallel, :times)) ./ 10000"
   ]
  },
  {
   "cell_type": "code",
   "execution_count": 17,
   "metadata": {},
   "outputs": [
    {
     "data": {
      "text/plain": [
       "7-element Array{Float64,1}:\n",
       "   389.83337492187496\n",
       "  1482.526084272997  \n",
       "  2420.3909579710144 \n",
       "  3683.3924544117644 \n",
       "  5146.81323877551   \n",
       "  7490.143041791044  \n",
       " 12107.092588095238  "
      ]
     },
     "execution_count": 17,
     "metadata": {},
     "output_type": "execute_result"
    }
   ],
   "source": [
    "mean.(getfield.(parallel, :times)) ./ 10000"
   ]
  },
  {
   "cell_type": "code",
   "execution_count": 73,
   "metadata": {},
   "outputs": [
    {
     "data": {
      "text/plain": [
       "2.887732e6"
      ]
     },
     "execution_count": 73,
     "metadata": {},
     "output_type": "execute_result"
    }
   ],
   "source": [
    "minimum(parallel[1].times)"
   ]
  },
  {
   "cell_type": "code",
   "execution_count": null,
   "metadata": {},
   "outputs": [],
   "source": []
  }
 ],
 "metadata": {
  "kernelspec": {
   "display_name": "Julia 1.1.1",
   "language": "julia",
   "name": "julia-1.1"
  },
  "language_info": {
   "file_extension": ".jl",
   "mimetype": "application/julia",
   "name": "julia",
   "version": "1.1.1"
  }
 },
 "nbformat": 4,
 "nbformat_minor": 2
}
